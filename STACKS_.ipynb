{
 "cells": [
  {
   "cell_type": "markdown",
   "metadata": {},
   "source": [
    "STACKS-Data Structure:\n",
    "(abstract data type)\n",
    "\n",
    "ex: stacks of book\n",
    "\n",
    "1.It works on the basis of LIFO\n",
    "2. Entry and Exit point are same\n",
    "\n",
    "5 main operations:\n",
    "1. Push - entry of  new element at top of stack\n",
    "2. Pop -  exit of elememt from top\n",
    "3. Top - display top element\n",
    "4. isempty - is stack empty or not\n",
    "5. size - no. of element in stack"
   ]
  },
  {
   "cell_type": "markdown",
   "metadata": {},
   "source": [
    "Recursion Stack:\n",
    "\n",
    "Whenever we are making a recursive calls, these calls are stored in stack memory (by default also knownn as recursion stacks)\n",
    "where for ex: fact(4)->fact(3)->fact(3)->fact(1)->fact(0)\n",
    "when fact(0) is returned thn fact(1) and so on... \n",
    "This thus follows stack Property"
   ]
  },
  {
   "cell_type": "markdown",
   "metadata": {},
   "source": [
    "Stack Using ARRAY:\n",
    "    "
   ]
  },
  {
   "cell_type": "code",
   "execution_count": 4,
   "metadata": {},
   "outputs": [],
   "source": [
    "# we will use array functionality to create stack\n",
    "# and in stack class we will be using private variable so that user can't change it\n",
    "\n",
    "class stack:\n",
    "    \n",
    "    def __init__(self):\n",
    "        self.__data=[]\n",
    "    \n",
    "    def push(self,item):\n",
    "        self.__data.append(item)\n",
    "    \n",
    "    def pop(self):\n",
    "        if self.isempty():\n",
    "            print('empty stack')\n",
    "            return \n",
    "        return self.__data.pop()\n",
    "    \n",
    "    def top(self):\n",
    "        if self.isempty():\n",
    "            print('empty stack')\n",
    "            return \n",
    "        return self.__data[len(self.__data)-1]\n",
    "        \n",
    "    def size(self):\n",
    "        return len(self.__data)\n",
    "    \n",
    "    def isempty(self):\n",
    "        return self.size==0\n",
    "    \n",
    "    "
   ]
  },
  {
   "cell_type": "code",
   "execution_count": 5,
   "metadata": {},
   "outputs": [
    {
     "data": {
      "text/plain": [
       "2"
      ]
     },
     "execution_count": 5,
     "metadata": {},
     "output_type": "execute_result"
    }
   ],
   "source": [
    "s=stack()\n",
    "s.push(1)\n",
    "s.push(2)\n",
    "s.top()"
   ]
  },
  {
   "cell_type": "markdown",
   "metadata": {},
   "source": [
    "Stack Using Linked List"
   ]
  },
  {
   "cell_type": "code",
   "execution_count": 18,
   "metadata": {},
   "outputs": [
    {
     "name": "stdout",
     "output_type": "stream",
     "text": [
      "1 2 3 4 5 6 -1\n",
      "2\n",
      "1\n",
      "false\n"
     ]
    }
   ],
   "source": [
    "class node:\n",
    "    \n",
    "    def __init__(self,data):\n",
    "        self.data=data\n",
    "        self.next=None\n",
    "        \n",
    "class StackUsingLL:\n",
    "    \n",
    "    def __init__(self):\n",
    "        self.__head=None\n",
    "        self.__count=0\n",
    "        \n",
    "    def push(self,data):\n",
    "        newnode=node(data)\n",
    "        newnode.next=self.__head\n",
    "        self.__head=newnode\n",
    "        self.__count+=1\n",
    "        \n",
    "    def pop(self):\n",
    "        if self.getSize==0:\n",
    "            return 0\n",
    "        self.__count-=1\n",
    "        a=self.__head.data\n",
    "        self.head=self.__head.next\n",
    "        return a\n",
    "    \n",
    "    def top(self):\n",
    "        if self.getSize==0:\n",
    "            return 0\n",
    "        return self.__head.data\n",
    "    \n",
    "    def getSize(self):\n",
    "        return self.__count\n",
    "    \n",
    "    def isEmpty(self):\n",
    "        return self.__count==0\n",
    "\n",
    "# TESTING\n",
    "\n",
    "s = StackUsingLL()\n",
    "li = [int(ele) for ele in input().split()]\n",
    "i=0\n",
    "while i<len(li):\n",
    "    choice = li[i]\n",
    "    if choice == -1:\n",
    "        break\n",
    "    elif choice == 1:\n",
    "        s.push(li[i+1])\n",
    "        i+=1\n",
    "    elif choice == 2:\n",
    "        ans = s.pop()\n",
    "        if ans!=0:\n",
    "            print(ans)\n",
    "        else:\n",
    "            print(-1)\n",
    "    elif choice == 3:\n",
    "        ans = s.top()\n",
    "        if ans!=0:\n",
    "            print(ans)\n",
    "        else:\n",
    "            print(-1)\n",
    "    elif choice == 4:\n",
    "        print(s.getSize())\n",
    "    elif choice == 5:\n",
    "        if(s.isEmpty()):\n",
    "            print('true')\n",
    "        else:\n",
    "            print('false')\n",
    "    i+=1\n",
    "\n",
    "    \n",
    "    \n",
    "    "
   ]
  },
  {
   "cell_type": "markdown",
   "metadata": {},
   "source": [
    "Balanced Parenthesis"
   ]
  },
  {
   "cell_type": "code",
   "execution_count": 22,
   "metadata": {},
   "outputs": [
    {
     "name": "stdout",
     "output_type": "stream",
     "text": [
      "{(a+b)+[c]+{d}(9(0))}\n",
      "true\n"
     ]
    }
   ],
   "source": [
    "# you can use stack (order of paranthesis matters)\n",
    "\n",
    "def checkBalanced(expr):\n",
    "    s=[]\n",
    "    for i in expr:\n",
    "        if i in '{([':\n",
    "            s.append(i)\n",
    "        elif i is ')':\n",
    "            if len(s)==0 or s[-1]!='(':\n",
    "                return False\n",
    "            s.pop()\n",
    "        elif i is '}':\n",
    "            if len(s)==0 or s[-1]!='{':\n",
    "                return False\n",
    "            s.pop()\n",
    "        elif i is ']':\n",
    "            if len(s)==0 or s[-1]!='[':\n",
    "                return False\n",
    "            s.pop()\n",
    "        \n",
    "    if len(s)==0:\n",
    "        return True\n",
    "    return False\n",
    "            \n",
    "                \n",
    "    \n",
    "    \n",
    "exp=input()\n",
    "if checkBalanced(exp):\n",
    "    print('true')\n",
    "else:\n",
    "    print('false')\n",
    "\n"
   ]
  },
  {
   "cell_type": "markdown",
   "metadata": {},
   "source": [
    "Reverse a stack using another Stack"
   ]
  },
  {
   "cell_type": "code",
   "execution_count": 25,
   "metadata": {},
   "outputs": [
    {
     "name": "stdout",
     "output_type": "stream",
     "text": [
      "5\n",
      "1 2 3 4 5 -1\n",
      "1 2 3 4 5 -1 "
     ]
    }
   ],
   "source": [
    "def reverseStack(s1,s2):\n",
    "    if len(s1)<=1:\n",
    "        return\n",
    "    \n",
    "    while len(s1)!=1:\n",
    "        s2.append(s1.pop())\n",
    "    \n",
    "    ele=s1.pop()\n",
    "    \n",
    "    while len(s2)!=0:\n",
    "        s1.append(s2.pop())\n",
    "    \n",
    "    reverseStack(s1,s2)\n",
    "    \n",
    "    s1.append(ele)\n",
    "    \n",
    "#### Implement the code here\n",
    "\n",
    "from sys import setrecursionlimit\n",
    "setrecursionlimit(11000)\n",
    "n = int(input())\n",
    "s1 = [int(ele) for ele in input().split()]\n",
    "s2 = []\n",
    "reverseStack(s1,s2)\n",
    "#stack hhas been reversed so first element (topmost is pooped first)\n",
    "while(len(s1) !=0):\n",
    "    print(s1.pop(),end= ' ')"
   ]
  },
  {
   "cell_type": "markdown",
   "metadata": {},
   "source": [
    "Check Redundant Brackets"
   ]
  },
  {
   "cell_type": "code",
   "execution_count": 31,
   "metadata": {},
   "outputs": [
    {
     "name": "stdout",
     "output_type": "stream",
     "text": [
      "((a+b))\n",
      "true\n"
     ]
    }
   ],
   "source": [
    "# ASSUME BRACKETS ARE BALANCEED\n",
    "# AND ONLY BRACKETS OF TYPE () ARE INCLUDED\n",
    "\n",
    "def checkRedundant(string):\n",
    "    s=[]\n",
    "    for i in string:\n",
    "        if i==')':\n",
    "            c=0\n",
    "            # i am counting no. of characyters after (, if it is less than 2 thhan its relevant , but case like (a+)\n",
    "            # is  also reduntant (but how)\n",
    "            while s.pop()!='(':\n",
    "                c+=1\n",
    "            if c<2:\n",
    "                return True\n",
    "            else:\n",
    "                continue\n",
    "        else:\n",
    "            s.append(i)\n",
    "    \n",
    "    return False\n",
    "            \n",
    "string = input()\n",
    "ans = checkRedundant(string)\n",
    "if ans is True:\n",
    "    print('true')\n",
    "else:\n",
    "    print('false')"
   ]
  },
  {
   "cell_type": "markdown",
   "metadata": {},
   "source": [
    "STOCK SPAN"
   ]
  },
  {
   "cell_type": "code",
   "execution_count": 32,
   "metadata": {},
   "outputs": [
    {
     "name": "stdout",
     "output_type": "stream",
     "text": [
      "6\n",
      "10 20 30 5 45 60\n",
      "1 2 3 1 5 6 "
     ]
    }
   ],
   "source": [
    "def stockSpan(price,n):\n",
    "    s=[]\n",
    "    for i in range(n):\n",
    "        if i==0:\n",
    "            s.append(1)\n",
    "        else:\n",
    "            save=price[i]\n",
    "            c=1\n",
    "            i-=1\n",
    "            while save>price[i] and i>=0:\n",
    "                c+=1\n",
    "                i-=1\n",
    "            s.append(c)\n",
    "    return s\n",
    "    \n",
    "n = int(input())\n",
    "price = [int(ele) for ele in input().split()]\n",
    "spans = stockSpan(price,n)\n",
    "for ele in spans:\n",
    "    print(ele,end= ' ')\n"
   ]
  },
  {
   "cell_type": "markdown",
   "metadata": {},
   "source": [
    "Minimum Bracket Reversal"
   ]
  },
  {
   "cell_type": "code",
   "execution_count": null,
   "metadata": {},
   "outputs": [],
   "source": [
    "def minbracketreversal(s):\n",
    "    if len(s)==0:\n",
    "        return 0\n",
    "    if len(s)%2!=0:\n",
    "        return -1\n",
    "    \n",
    "    st=[]\n",
    "    for i in s:\n",
    "        if i=='{':\n",
    "            st.append(i)\n",
    "            \n",
    "        elif i=='}':\n",
    "            # if my last element is { and new element is }, then we can directly pop as no reversal needed\n",
    "            if len(st)>0 and st[-1]=='{':\n",
    "                st.pop()\n",
    "            else:\n",
    "                # otherwise i am appending the other bracket too \n",
    "                st.append()\n",
    "                \n",
    "    # if elements are left in stack\n",
    "    # I am making a count of no. of elements in stack \n",
    "    \n",
    "    count=0\n",
    "    while len(st)>0:\n",
    "        c1=st.pop()\n",
    "        c2=st.pop()\n",
    "        if c1==c2:\n",
    "            count+=1\n",
    "        else:\n",
    "            count+=2\n",
    "    c=0\n",
    "    while len(stac)>0:\n",
    "        c1=stac.pop()\n",
    "        c2=stac.pop()\n",
    "        if c1!=c2:\n",
    "            c+=2\n",
    "        else:\n",
    "            c+=1\n",
    "    \n",
    "    return c\n",
    "    \n",
    "s=input()\n",
    "a=minbracketreversal(s)\n",
    "print(a)\n",
    "        "
   ]
  }
 ],
 "metadata": {
  "kernelspec": {
   "display_name": "Python 3",
   "language": "python",
   "name": "python3"
  },
  "language_info": {
   "codemirror_mode": {
    "name": "ipython",
    "version": 3
   },
   "file_extension": ".py",
   "mimetype": "text/x-python",
   "name": "python",
   "nbconvert_exporter": "python",
   "pygments_lexer": "ipython3",
   "version": "3.7.6"
  }
 },
 "nbformat": 4,
 "nbformat_minor": 4
}
